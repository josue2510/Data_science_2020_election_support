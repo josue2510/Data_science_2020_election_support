{
  "nbformat": 4,
  "nbformat_minor": 0,
  "metadata": {
    "colab": {
      "name": "SentimentAnalysis.ipynb",
      "provenance": [],
      "authorship_tag": "ABX9TyPfF/oTV3iGv78bvap9wvIO",
      "include_colab_link": true
    },
    "kernelspec": {
      "name": "python3",
      "display_name": "Python 3"
    },
    "language_info": {
      "name": "python"
    }
  },
  "cells": [
    {
      "cell_type": "markdown",
      "metadata": {
        "id": "view-in-github",
        "colab_type": "text"
      },
      "source": [
        "<a href=\"https://colab.research.google.com/github/josue2510/Data_science_2020_election_support/blob/main/SentimentAnalysis.ipynb\" target=\"_parent\"><img src=\"https://colab.research.google.com/assets/colab-badge.svg\" alt=\"Open In Colab\"/></a>"
      ]
    },
    {
      "cell_type": "code",
      "source": [
        "!pip install nltk"
      ],
      "metadata": {
        "colab": {
          "base_uri": "https://localhost:8080/"
        },
        "id": "EE48kscJcLL5",
        "outputId": "51a428ab-6e51-45d1-b735-f2f3d9f80122"
      },
      "execution_count": 1,
      "outputs": [
        {
          "output_type": "stream",
          "name": "stdout",
          "text": [
            "Requirement already satisfied: nltk in /usr/local/lib/python3.7/dist-packages (3.2.5)\n",
            "Requirement already satisfied: six in /usr/local/lib/python3.7/dist-packages (from nltk) (1.15.0)\n"
          ]
        }
      ]
    },
    {
      "cell_type": "code",
      "source": [
        "from google.colab import drive\n",
        "drive.mount('/content/drive')"
      ],
      "metadata": {
        "colab": {
          "base_uri": "https://localhost:8080/"
        },
        "id": "-jTilpogcqyC",
        "outputId": "7528a7f0-ec64-40de-d3c8-a36fa80e16bd"
      },
      "execution_count": 2,
      "outputs": [
        {
          "output_type": "stream",
          "name": "stdout",
          "text": [
            "Drive already mounted at /content/drive; to attempt to forcibly remount, call drive.mount(\"/content/drive\", force_remount=True).\n"
          ]
        }
      ]
    },
    {
      "cell_type": "code",
      "execution_count": 3,
      "metadata": {
        "id": "NBbQbogjb1cd"
      },
      "outputs": [],
      "source": [
        "from textblob import TextBlob#libreria para procesar datos de texto\n",
        "import nltk#kit de herramientas de lenguaje natural\n",
        "import pandas as pd\n",
        "from collections import Counter#subclase que cuenta objetos y almacena los elementos en un diccionario\n",
        "from matplotlib import pyplot as plt\n",
        "import numpy as np\n",
        "from  tqdm import tqdm#libreria que mide el progreso de los loops\n",
        "import warnings; warnings.simplefilter('ignore')\n",
        "\n",
        "pd.set_option('display.width', None)\n",
        "pd.set_option('display.max_colwidth', -1)"
      ]
    },
    {
      "cell_type": "code",
      "source": [
        "tweets = pd.read_csv('/content/drive/MyDrive/tweets.csv', sep=',')\n",
        "tweets.tweet = tweets.tweet.astype(str)"
      ],
      "metadata": {
        "id": "28_HvSYKcA3T"
      },
      "execution_count": 4,
      "outputs": []
    },
    {
      "cell_type": "code",
      "source": [
        "#Contamos la cantidad de veces que se repite el nombre de un candidato en cada tweet\n",
        "count = []\n",
        "for i in tqdm(range(tweets.shape[0])):\n",
        "    count.append({'biden': tweets['tweet'].iloc[i].count('biden'),\n",
        "                  'trump': tweets['tweet'].iloc[i].count('trump')})\n",
        "candidates_count = pd.DataFrame.from_dict(count)\n",
        "tweets = tweets.join(candidates_count)"
      ],
      "metadata": {
        "colab": {
          "base_uri": "https://localhost:8080/"
        },
        "id": "pKBKOQiUvkFe",
        "outputId": "a7bdae2d-6b98-489c-f04a-cfac4afe3952"
      },
      "execution_count": 5,
      "outputs": [
        {
          "output_type": "stream",
          "name": "stderr",
          "text": [
            "100%|██████████| 2144766/2144766 [00:55<00:00, 38642.87it/s]\n"
          ]
        }
      ]
    },
    {
      "cell_type": "code",
      "source": [
        "def getPolarity(text):\n",
        "  '''Calcula la polaridad del texto recibido\n",
        "    Args:\n",
        "        text: str\n",
        "    Returns: float\n",
        "  '''\n",
        "  return TextBlob(text).sentiment.polarity\n",
        "def getAnalysis(score):\n",
        "  '''Clasifica el texto en base a la polaridad obtenida\n",
        "    Args:\n",
        "        score: float\n",
        "    Returns: str\n",
        "  '''\n",
        "  if score < 0:\n",
        "    return 'negative'\n",
        "  elif score==0:\n",
        "    return 'neutral'\n",
        "  else:\n",
        "     return 'positive'"
      ],
      "metadata": {
        "id": "R3IBW-ULdKji"
      },
      "execution_count": 6,
      "outputs": []
    },
    {
      "cell_type": "code",
      "source": [
        "tweets['polarity']    = tweets['tweet'].apply(getPolarity)\n",
        "tweets['analysis']    = tweets['polarity'].apply(getAnalysis)\n",
        "tweets.head()"
      ],
      "metadata": {
        "colab": {
          "base_uri": "https://localhost:8080/",
          "height": 337
        },
        "id": "hkckQdMpl4sN",
        "outputId": "f96d8b9b-5e7e-454d-8fd1-bc5b2d0e48c6"
      },
      "execution_count": 7,
      "outputs": [
        {
          "output_type": "execute_result",
          "data": {
            "text/html": [
              "\n",
              "  <div id=\"df-45122d97-6792-42b9-8c06-325c3a4b8674\">\n",
              "    <div class=\"colab-df-container\">\n",
              "      <div>\n",
              "<style scoped>\n",
              "    .dataframe tbody tr th:only-of-type {\n",
              "        vertical-align: middle;\n",
              "    }\n",
              "\n",
              "    .dataframe tbody tr th {\n",
              "        vertical-align: top;\n",
              "    }\n",
              "\n",
              "    .dataframe thead th {\n",
              "        text-align: right;\n",
              "    }\n",
              "</style>\n",
              "<table border=\"1\" class=\"dataframe\">\n",
              "  <thead>\n",
              "    <tr style=\"text-align: right;\">\n",
              "      <th></th>\n",
              "      <th>tweet</th>\n",
              "      <th>likes</th>\n",
              "      <th>retweets</th>\n",
              "      <th>date</th>\n",
              "      <th>biden</th>\n",
              "      <th>trump</th>\n",
              "      <th>polarity</th>\n",
              "      <th>analysis</th>\n",
              "    </tr>\n",
              "  </thead>\n",
              "  <tbody>\n",
              "    <tr>\n",
              "      <th>0</th>\n",
              "      <td>farewell president trump past 4 years turn entertained shocked appalled amused dismayed horrified angered infuriated gobsmacked entire planet trump congratulations presidentelect biden oil troubled waters bidenharris2020</td>\n",
              "      <td>0</td>\n",
              "      <td>0</td>\n",
              "      <td>2020-11-08</td>\n",
              "      <td>2</td>\n",
              "      <td>2</td>\n",
              "      <td>-0.50</td>\n",
              "      <td>negative</td>\n",
              "    </tr>\n",
              "    <tr>\n",
              "      <th>1</th>\n",
              "      <td>congratulations joe biden 46th american president elect bidenharris2020 joebidenkamalaharris2020 joebiden trumpout trumpasylumplans</td>\n",
              "      <td>0</td>\n",
              "      <td>0</td>\n",
              "      <td>2020-11-08</td>\n",
              "      <td>4</td>\n",
              "      <td>2</td>\n",
              "      <td>0.40</td>\n",
              "      <td>positive</td>\n",
              "    </tr>\n",
              "    <tr>\n",
              "      <th>2</th>\n",
              "      <td>joebiden the bible tells season time build time reap time sow time heal het exacte citaat time kill time heal time tear time build ecclesiastes 33 bidenharris2020 trumpout</td>\n",
              "      <td>1</td>\n",
              "      <td>0</td>\n",
              "      <td>2020-11-08</td>\n",
              "      <td>2</td>\n",
              "      <td>1</td>\n",
              "      <td>0.00</td>\n",
              "      <td>neutral</td>\n",
              "    </tr>\n",
              "    <tr>\n",
              "      <th>3</th>\n",
              "      <td>wterrence youre upset youll real job now joebiden president</td>\n",
              "      <td>0</td>\n",
              "      <td>0</td>\n",
              "      <td>2020-11-08</td>\n",
              "      <td>1</td>\n",
              "      <td>0</td>\n",
              "      <td>0.20</td>\n",
              "      <td>positive</td>\n",
              "    </tr>\n",
              "    <tr>\n",
              "      <th>4</th>\n",
              "      <td>bs levels rose high heres 46 trump vote joebiden dumptrump presidenttrump</td>\n",
              "      <td>2</td>\n",
              "      <td>0</td>\n",
              "      <td>2020-11-08</td>\n",
              "      <td>1</td>\n",
              "      <td>3</td>\n",
              "      <td>0.38</td>\n",
              "      <td>positive</td>\n",
              "    </tr>\n",
              "  </tbody>\n",
              "</table>\n",
              "</div>\n",
              "      <button class=\"colab-df-convert\" onclick=\"convertToInteractive('df-45122d97-6792-42b9-8c06-325c3a4b8674')\"\n",
              "              title=\"Convert this dataframe to an interactive table.\"\n",
              "              style=\"display:none;\">\n",
              "        \n",
              "  <svg xmlns=\"http://www.w3.org/2000/svg\" height=\"24px\"viewBox=\"0 0 24 24\"\n",
              "       width=\"24px\">\n",
              "    <path d=\"M0 0h24v24H0V0z\" fill=\"none\"/>\n",
              "    <path d=\"M18.56 5.44l.94 2.06.94-2.06 2.06-.94-2.06-.94-.94-2.06-.94 2.06-2.06.94zm-11 1L8.5 8.5l.94-2.06 2.06-.94-2.06-.94L8.5 2.5l-.94 2.06-2.06.94zm10 10l.94 2.06.94-2.06 2.06-.94-2.06-.94-.94-2.06-.94 2.06-2.06.94z\"/><path d=\"M17.41 7.96l-1.37-1.37c-.4-.4-.92-.59-1.43-.59-.52 0-1.04.2-1.43.59L10.3 9.45l-7.72 7.72c-.78.78-.78 2.05 0 2.83L4 21.41c.39.39.9.59 1.41.59.51 0 1.02-.2 1.41-.59l7.78-7.78 2.81-2.81c.8-.78.8-2.07 0-2.86zM5.41 20L4 18.59l7.72-7.72 1.47 1.35L5.41 20z\"/>\n",
              "  </svg>\n",
              "      </button>\n",
              "      \n",
              "  <style>\n",
              "    .colab-df-container {\n",
              "      display:flex;\n",
              "      flex-wrap:wrap;\n",
              "      gap: 12px;\n",
              "    }\n",
              "\n",
              "    .colab-df-convert {\n",
              "      background-color: #E8F0FE;\n",
              "      border: none;\n",
              "      border-radius: 50%;\n",
              "      cursor: pointer;\n",
              "      display: none;\n",
              "      fill: #1967D2;\n",
              "      height: 32px;\n",
              "      padding: 0 0 0 0;\n",
              "      width: 32px;\n",
              "    }\n",
              "\n",
              "    .colab-df-convert:hover {\n",
              "      background-color: #E2EBFA;\n",
              "      box-shadow: 0px 1px 2px rgba(60, 64, 67, 0.3), 0px 1px 3px 1px rgba(60, 64, 67, 0.15);\n",
              "      fill: #174EA6;\n",
              "    }\n",
              "\n",
              "    [theme=dark] .colab-df-convert {\n",
              "      background-color: #3B4455;\n",
              "      fill: #D2E3FC;\n",
              "    }\n",
              "\n",
              "    [theme=dark] .colab-df-convert:hover {\n",
              "      background-color: #434B5C;\n",
              "      box-shadow: 0px 1px 3px 1px rgba(0, 0, 0, 0.15);\n",
              "      filter: drop-shadow(0px 1px 2px rgba(0, 0, 0, 0.3));\n",
              "      fill: #FFFFFF;\n",
              "    }\n",
              "  </style>\n",
              "\n",
              "      <script>\n",
              "        const buttonEl =\n",
              "          document.querySelector('#df-45122d97-6792-42b9-8c06-325c3a4b8674 button.colab-df-convert');\n",
              "        buttonEl.style.display =\n",
              "          google.colab.kernel.accessAllowed ? 'block' : 'none';\n",
              "\n",
              "        async function convertToInteractive(key) {\n",
              "          const element = document.querySelector('#df-45122d97-6792-42b9-8c06-325c3a4b8674');\n",
              "          const dataTable =\n",
              "            await google.colab.kernel.invokeFunction('convertToInteractive',\n",
              "                                                     [key], {});\n",
              "          if (!dataTable) return;\n",
              "\n",
              "          const docLinkHtml = 'Like what you see? Visit the ' +\n",
              "            '<a target=\"_blank\" href=https://colab.research.google.com/notebooks/data_table.ipynb>data table notebook</a>'\n",
              "            + ' to learn more about interactive tables.';\n",
              "          element.innerHTML = '';\n",
              "          dataTable['output_type'] = 'display_data';\n",
              "          await google.colab.output.renderOutput(dataTable, element);\n",
              "          const docLink = document.createElement('div');\n",
              "          docLink.innerHTML = docLinkHtml;\n",
              "          element.appendChild(docLink);\n",
              "        }\n",
              "      </script>\n",
              "    </div>\n",
              "  </div>\n",
              "  "
            ],
            "text/plain": [
              "                                                                                                                                                                                                                          tweet  ...  analysis\n",
              "0  farewell president trump past 4 years turn entertained shocked appalled amused dismayed horrified angered infuriated gobsmacked entire planet trump congratulations presidentelect biden oil troubled waters bidenharris2020  ...  negative\n",
              "1  congratulations joe biden 46th american president elect bidenharris2020 joebidenkamalaharris2020 joebiden trumpout trumpasylumplans                                                                                           ...  positive\n",
              "2  joebiden the bible tells season time build time reap time sow time heal het exacte citaat time kill time heal time tear time build ecclesiastes 33 bidenharris2020 trumpout                                                   ...  neutral \n",
              "3  wterrence youre upset youll real job now joebiden president                                                                                                                                                                   ...  positive\n",
              "4  bs levels rose high heres 46 trump vote joebiden dumptrump presidenttrump                                                                                                                                                     ...  positive\n",
              "\n",
              "[5 rows x 8 columns]"
            ]
          },
          "metadata": {},
          "execution_count": 7
        }
      ]
    },
    {
      "cell_type": "code",
      "source": [
        "def text_plot(y):\n",
        "  for c, value in enumerate(y): \n",
        "    plt.text(c-0.08, value, str(value)) "
      ],
      "metadata": {
        "id": "UiWz818v9ePW"
      },
      "execution_count": 8,
      "outputs": []
    },
    {
      "cell_type": "code",
      "source": [
        "#Representación de la cantidad de tweets positivos, negativos y neutrales\n",
        "sentiment_cnt = Counter(tweets.analysis)\n",
        "plt.figure(figsize=(12,6))\n",
        "plt.bar(sentiment_cnt.keys(), sentiment_cnt.values(), color=['tomato', 'limegreen', 'deepskyblue'])\n",
        "text_plot(sentiment_cnt.values())\n",
        "plt.xlabel('Sentimientos')\n",
        "plt.ylabel('Cantidad de tweets')\n",
        "plt.title('Análisis de sentimientos')"
      ],
      "metadata": {
        "colab": {
          "base_uri": "https://localhost:8080/",
          "height": 422
        },
        "id": "CoTxzR3GpZiO",
        "outputId": "24eea863-7b2e-4597-97ca-2baf19f3704b"
      },
      "execution_count": 9,
      "outputs": [
        {
          "output_type": "execute_result",
          "data": {
            "text/plain": [
              "Text(0.5, 1.0, 'Análisis de sentimientos')"
            ]
          },
          "metadata": {},
          "execution_count": 9
        },
        {
          "output_type": "display_data",
          "data": {
            "image/png": "[encoded data removed]",
            "text/plain": [
              "<Figure size 864x432 with 1 Axes>"
            ]
          },
          "metadata": {
            "needs_background": "light"
          }
        }
      ]
    },
    {
      "cell_type": "code",
      "source": [
        "sentiment_cnt = Counter(tweets.analysis)\n",
        "sentiment_cnt"
      ],
      "metadata": {
        "colab": {
          "base_uri": "https://localhost:8080/"
        },
        "id": "A-5pmuF9Jm3Q",
        "outputId": "bb7368be-2219-449f-fc07-1edcdabf8346"
      },
      "execution_count": 10,
      "outputs": [
        {
          "output_type": "execute_result",
          "data": {
            "text/plain": [
              "Counter({'negative': 310348, 'neutral': 1271609, 'positive': 562809})"
            ]
          },
          "metadata": {},
          "execution_count": 10
        }
      ]
    },
    {
      "cell_type": "code",
      "source": [
        "#Twitters más virales de acuerdo a la cantidad de likes\n",
        "most_liked = tweets.sort_values('likes', ascending= False).head(50)\n",
        "sentiment_cnt = Counter(most_liked.analysis)\n",
        "plt.figure(figsize=(12,6))\n",
        "plt.bar(sentiment_cnt.keys(), sentiment_cnt.values(), color=['limegreen', 'tomato', 'deepskyblue'])\n",
        "text_plot(sentiment_cnt.values())\n",
        "plt.xlabel('Sentimientos')\n",
        "plt.ylabel('Cantidad de tweets')\n",
        "plt.title(\"Análisis de sentimientos tweets con más likes.\")"
      ],
      "metadata": {
        "colab": {
          "base_uri": "https://localhost:8080/",
          "height": 422
        },
        "id": "rhb98szRq5ge",
        "outputId": "c639e1a7-d319-4c34-8f9c-daf3616ae0e8"
      },
      "execution_count": 11,
      "outputs": [
        {
          "output_type": "execute_result",
          "data": {
            "text/plain": [
              "Text(0.5, 1.0, 'Análisis de sentimientos tweets con más likes.')"
            ]
          },
          "metadata": {},
          "execution_count": 11
        },
        {
          "output_type": "display_data",
          "data": {
            "image/png": "[encoded data removed]",
            "text/plain": [
              "<Figure size 864x432 with 1 Axes>"
            ]
          },
          "metadata": {
            "needs_background": "light"
          }
        }
      ]
    },
    {
      "cell_type": "code",
      "source": [
        "#Twitters más virales de acuerdo a la cantidad de retweets\n",
        "most_retweeted = tweets.sort_values('retweets', ascending= False).head(50)\n",
        "sentiment_cnt = Counter(most_retweeted.analysis)\n",
        "plt.figure(figsize=(12,6))\n",
        "plt.bar(sentiment_cnt.keys(), sentiment_cnt.values(), color=['tomato','deepskyblue', 'limegreen'])\n",
        "text_plot(sentiment_cnt.values())\n",
        "plt.xlabel('Sentimientos')\n",
        "plt.ylabel('Cantidad de tweets')\n",
        "plt.title(\"Análisis de sentimientos tweets con más retweets.\")"
      ],
      "metadata": {
        "colab": {
          "base_uri": "https://localhost:8080/",
          "height": 422
        },
        "id": "epY39u3TsD8O",
        "outputId": "85903ff0-131f-489e-d469-91c73c421b25"
      },
      "execution_count": 12,
      "outputs": [
        {
          "output_type": "execute_result",
          "data": {
            "text/plain": [
              "Text(0.5, 1.0, 'Análisis de sentimientos tweets con más retweets.')"
            ]
          },
          "metadata": {},
          "execution_count": 12
        },
        {
          "output_type": "display_data",
          "data": {
            "image/png": "[encoded data removed]",
            "text/plain": [
              "<Figure size 864x432 with 1 Axes>"
            ]
          },
          "metadata": {
            "needs_background": "light"
          }
        }
      ]
    },
    {
      "cell_type": "code",
      "source": [
        "#Sentimiento de los tweets que mencionan a Biden y no a Trump\n",
        "biden_tweets = tweets[tweets.biden.apply(lambda x: x>0) & tweets.trump.apply(lambda x: x==0)]\n",
        "sentiment_cnt = Counter(biden_tweets.analysis)\n",
        "plt.figure(figsize=(12,6))\n",
        "plt.bar(sentiment_cnt.keys(), sentiment_cnt.values(), color=['limegreen','tomato', 'deepskyblue'])\n",
        "text_plot(sentiment_cnt.values())\n",
        "plt.xlabel('Sentimientos')\n",
        "plt.ylabel('Cantidad de tweets')\n",
        "plt.title(\"Análisis de sentimientos tweets que mencionan más a Biden.\")"
      ],
      "metadata": {
        "colab": {
          "base_uri": "https://localhost:8080/",
          "height": 422
        },
        "id": "rmyDKCxE0zyP",
        "outputId": "bfa59714-0da3-4c30-fdb3-08979638e423"
      },
      "execution_count": 13,
      "outputs": [
        {
          "output_type": "execute_result",
          "data": {
            "text/plain": [
              "Text(0.5, 1.0, 'Análisis de sentimientos tweets que mencionan más a Biden.')"
            ]
          },
          "metadata": {},
          "execution_count": 13
        },
        {
          "output_type": "display_data",
          "data": {
            "image/png": "[encoded data removed]",
            "text/plain": [
              "<Figure size 864x432 with 1 Axes>"
            ]
          },
          "metadata": {
            "needs_background": "light"
          }
        }
      ]
    },
    {
      "cell_type": "code",
      "source": [
        "#Sentimiento de los tweets que mencionan a Trump y no a Biden\n",
        "trump_tweets = tweets[tweets.trump.apply(lambda x: x>0) & tweets.biden.apply(lambda x: x==0)]\n",
        "target_cnt = Counter(trump_tweets.analysis)\n",
        "plt.figure(figsize=(12,6))\n",
        "plt.bar(target_cnt.keys(), target_cnt.values(), color=['limegreen','tomato', 'deepskyblue'])\n",
        "text_plot(sentiment_cnt.values())\n",
        "plt.xlabel('Sentimientos')\n",
        "plt.ylabel('Cantidad de tweets')\n",
        "plt.title(\"Análisis de sentimientos tweets que mencionan más a Trump.\")"
      ],
      "metadata": {
        "colab": {
          "base_uri": "https://localhost:8080/",
          "height": 422
        },
        "id": "RDk72dM61TTH",
        "outputId": "baa21d06-db2e-460e-9580-e7537f816926"
      },
      "execution_count": 14,
      "outputs": [
        {
          "output_type": "execute_result",
          "data": {
            "text/plain": [
              "Text(0.5, 1.0, 'Análisis de sentimientos tweets que mencionan más a Trump.')"
            ]
          },
          "metadata": {},
          "execution_count": 14
        },
        {
          "output_type": "display_data",
          "data": {
            "image/png": "[encoded data removed]",
            "text/plain": [
              "<Figure size 864x432 with 1 Axes>"
            ]
          },
          "metadata": {
            "needs_background": "light"
          }
        }
      ]
    }
  ]
}