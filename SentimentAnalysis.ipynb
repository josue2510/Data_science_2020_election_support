{
  "nbformat": 4,
  "nbformat_minor": 0,
  "metadata": {
    "colab": {
      "name": "SentimentAnalysis.ipynb",
      "provenance": [],
      "include_colab_link": true
    },
    "kernelspec": {
      "name": "python3",
      "display_name": "Python 3"
    },
    "language_info": {
      "name": "python"
    }
  },
  "cells": [
    {
      "cell_type": "markdown",
      "metadata": {
        "id": "view-in-github",
        "colab_type": "text"
      },
      "source": [
        "<a href=\"https://colab.research.google.com/github/josue2510/Data_science_2020_election_support/blob/main/SentimentAnalysis.ipynb\" target=\"_parent\"><img src=\"https://colab.research.google.com/assets/colab-badge.svg\" alt=\"Open In Colab\"/></a>"
      ]
    },
    {
      "cell_type": "code",
      "source": [
        "!pip install nltk"
      ],
      "metadata": {
        "colab": {
          "base_uri": "https://localhost:8080/"
        },
        "id": "EE48kscJcLL5",
        "outputId": "93f8d3b9-4244-4272-b3b2-7352e301a7f3"
      },
      "execution_count": 148,
      "outputs": [
        {
          "output_type": "stream",
          "name": "stdout",
          "text": [
            "Requirement already satisfied: nltk in /usr/local/lib/python3.7/dist-packages (3.2.5)\n",
            "Requirement already satisfied: six in /usr/local/lib/python3.7/dist-packages (from nltk) (1.15.0)\n"
          ]
        }
      ]
    },
    {
      "cell_type": "code",
      "source": [
        "from google.colab import drive\n",
        "drive.mount('/content/drive')"
      ],
      "metadata": {
        "colab": {
          "base_uri": "https://localhost:8080/"
        },
        "id": "-jTilpogcqyC",
        "outputId": "8f84ae12-b24c-4ef7-db94-4f228d18f377"
      },
      "execution_count": 149,
      "outputs": [
        {
          "output_type": "stream",
          "name": "stdout",
          "text": [
            "Drive already mounted at /content/drive; to attempt to forcibly remount, call drive.mount(\"/content/drive\", force_remount=True).\n"
          ]
        }
      ]
    },
    {
      "cell_type": "code",
      "execution_count": 150,
      "metadata": {
        "id": "NBbQbogjb1cd"
      },
      "outputs": [],
      "source": [
        "from textblob import TextBlob#libreria para procesar datos de texto\n",
        "import nltk#kit de herramientas de lenguaje natural\n",
        "import pandas as pd\n",
        "from collections import Counter#subclase que cuenta objetos y almacena los elementos en un diccionario\n",
        "from matplotlib import pyplot as plt\n",
        "import numpy as np\n",
        "from  tqdm import tqdm#libreria que mide el progreso de los loops\n",
        "import warnings; warnings.simplefilter('ignore')\n",
        "import seaborn as sns\n",
        "\n",
        "pd.set_option('display.width', None)\n",
        "pd.set_option('display.max_colwidth', -1)"
      ]
    },
    {
      "cell_type": "code",
      "source": [
        "#tweets = pd.read_csv('/content/drive/MyDrive/tweets.csv', sep=',')\n",
        "tweets = pd.read_csv('/content/drive/MyDrive/TIC/data/tweetsfixed.csv', sep=',')\n",
        "tweets.tweet = tweets.tweet.astype(str)"
      ],
      "metadata": {
        "id": "28_HvSYKcA3T"
      },
      "execution_count": 151,
      "outputs": []
    },
    {
      "cell_type": "code",
      "source": [
        "#Contamos la cantidad de veces que se repite el nombre de un candidato en cada tweet\n",
        "count = []\n",
        "for i in tqdm(range(tweets.shape[0])):\n",
        "    count.append({'biden': tweets['tweet'].iloc[i].count('biden'),\n",
        "                  'trump': tweets['tweet'].iloc[i].count('trump')})\n",
        "candidates_count = pd.DataFrame.from_dict(count)\n",
        "tweets = tweets.join(candidates_count)"
      ],
      "metadata": {
        "colab": {
          "base_uri": "https://localhost:8080/"
        },
        "id": "pKBKOQiUvkFe",
        "outputId": "9f8db95e-a44f-45ab-83de-40f3bb3441b8"
      },
      "execution_count": 152,
      "outputs": [
        {
          "output_type": "stream",
          "name": "stderr",
          "text": [
            "100%|██████████| 2038732/2038732 [00:55<00:00, 36747.77it/s]\n"
          ]
        }
      ]
    },
    {
      "cell_type": "code",
      "source": [
        "def getPolarity(text):\n",
        "  '''Calcula la polaridad del texto recibido\n",
        "    Args:\n",
        "        text: str\n",
        "    Returns: float\n",
        "  '''\n",
        "  return TextBlob(text).sentiment.polarity\n",
        "def getAnalysis(score):\n",
        "  '''Clasifica el texto en base a la polaridad obtenida\n",
        "    Args:\n",
        "        score: float\n",
        "    Returns: str\n",
        "  '''\n",
        "  if score < 0:\n",
        "    return 'negative'\n",
        "  elif score==0:\n",
        "    return 'neutral'\n",
        "  else:\n",
        "     return 'positive'"
      ],
      "metadata": {
        "id": "R3IBW-ULdKji"
      },
      "execution_count": 153,
      "outputs": []
    },
    {
      "cell_type": "code",
      "source": [
        "tweets['polarity']    = tweets['tweet'].apply(getPolarity)\n",
        "tweets['analysis']    = tweets['polarity'].apply(getAnalysis)\n",
        "tweets.to_csv(\"/content/drive/MyDrive/TIC/data/tweetsSentiment.csv\", sep=',', index=False)\n",
        "tweets.head()"
      ],
      "metadata": {
        "colab": {
          "base_uri": "https://localhost:8080/",
          "height": 337
        },
        "id": "hkckQdMpl4sN",
        "outputId": "c0786239-da6f-47ed-d861-97e7b3f9f8b9"
      },
      "execution_count": 154,
      "outputs": [
        {
          "output_type": "execute_result",
          "data": {
            "text/html": [
              "\n",
              "  <div id=\"df-21f3ac36-f970-4eaa-b7fb-f24004dcdd9e\">\n",
              "    <div class=\"colab-df-container\">\n",
              "      <div>\n",
              "<style scoped>\n",
              "    .dataframe tbody tr th:only-of-type {\n",
              "        vertical-align: middle;\n",
              "    }\n",
              "\n",
              "    .dataframe tbody tr th {\n",
              "        vertical-align: top;\n",
              "    }\n",
              "\n",
              "    .dataframe thead th {\n",
              "        text-align: right;\n",
              "    }\n",
              "</style>\n",
              "<table border=\"1\" class=\"dataframe\">\n",
              "  <thead>\n",
              "    <tr style=\"text-align: right;\">\n",
              "      <th></th>\n",
              "      <th>tweet</th>\n",
              "      <th>likes</th>\n",
              "      <th>retweets</th>\n",
              "      <th>date</th>\n",
              "      <th>biden</th>\n",
              "      <th>trump</th>\n",
              "      <th>polarity</th>\n",
              "      <th>analysis</th>\n",
              "    </tr>\n",
              "  </thead>\n",
              "  <tbody>\n",
              "    <tr>\n",
              "      <th>0</th>\n",
              "      <td>elecciones2020 florida joebiden dice donaldtrump solo preocupa mismo demcrata anfitrin encuentros electores pembrokepines miramar clic aqu elsollatino yobrilloconelsol</td>\n",
              "      <td>0</td>\n",
              "      <td>0</td>\n",
              "      <td>2020-10-15</td>\n",
              "      <td>1</td>\n",
              "      <td>1</td>\n",
              "      <td>0.000000</td>\n",
              "      <td>neutral</td>\n",
              "    </tr>\n",
              "    <tr>\n",
              "      <th>1</th>\n",
              "      <td>usa 2020 trump contro facebook twitter coprono biden donaldtrump</td>\n",
              "      <td>26</td>\n",
              "      <td>9</td>\n",
              "      <td>2020-10-15</td>\n",
              "      <td>1</td>\n",
              "      <td>2</td>\n",
              "      <td>0.000000</td>\n",
              "      <td>neutral</td>\n",
              "    </tr>\n",
              "    <tr>\n",
              "      <th>2</th>\n",
              "      <td>trump student used hear years ten years heard china 2019 15 dont know many asked many said sir dont know millions like 300 millionum</td>\n",
              "      <td>2</td>\n",
              "      <td>1</td>\n",
              "      <td>2020-10-15</td>\n",
              "      <td>0</td>\n",
              "      <td>1</td>\n",
              "      <td>0.333333</td>\n",
              "      <td>positive</td>\n",
              "    </tr>\n",
              "    <tr>\n",
              "      <th>3</th>\n",
              "      <td>hours since last tweet trump maybe busy tremendously busy</td>\n",
              "      <td>0</td>\n",
              "      <td>0</td>\n",
              "      <td>2020-10-15</td>\n",
              "      <td>0</td>\n",
              "      <td>1</td>\n",
              "      <td>0.066667</td>\n",
              "      <td>positive</td>\n",
              "    </tr>\n",
              "    <tr>\n",
              "      <th>4</th>\n",
              "      <td>get tie get tie trump rally iowa</td>\n",
              "      <td>4</td>\n",
              "      <td>3</td>\n",
              "      <td>2020-10-15</td>\n",
              "      <td>0</td>\n",
              "      <td>1</td>\n",
              "      <td>0.000000</td>\n",
              "      <td>neutral</td>\n",
              "    </tr>\n",
              "  </tbody>\n",
              "</table>\n",
              "</div>\n",
              "      <button class=\"colab-df-convert\" onclick=\"convertToInteractive('df-21f3ac36-f970-4eaa-b7fb-f24004dcdd9e')\"\n",
              "              title=\"Convert this dataframe to an interactive table.\"\n",
              "              style=\"display:none;\">\n",
              "        \n",
              "  <svg xmlns=\"http://www.w3.org/2000/svg\" height=\"24px\"viewBox=\"0 0 24 24\"\n",
              "       width=\"24px\">\n",
              "    <path d=\"M0 0h24v24H0V0z\" fill=\"none\"/>\n",
              "    <path d=\"M18.56 5.44l.94 2.06.94-2.06 2.06-.94-2.06-.94-.94-2.06-.94 2.06-2.06.94zm-11 1L8.5 8.5l.94-2.06 2.06-.94-2.06-.94L8.5 2.5l-.94 2.06-2.06.94zm10 10l.94 2.06.94-2.06 2.06-.94-2.06-.94-.94-2.06-.94 2.06-2.06.94z\"/><path d=\"M17.41 7.96l-1.37-1.37c-.4-.4-.92-.59-1.43-.59-.52 0-1.04.2-1.43.59L10.3 9.45l-7.72 7.72c-.78.78-.78 2.05 0 2.83L4 21.41c.39.39.9.59 1.41.59.51 0 1.02-.2 1.41-.59l7.78-7.78 2.81-2.81c.8-.78.8-2.07 0-2.86zM5.41 20L4 18.59l7.72-7.72 1.47 1.35L5.41 20z\"/>\n",
              "  </svg>\n",
              "      </button>\n",
              "      \n",
              "  <style>\n",
              "    .colab-df-container {\n",
              "      display:flex;\n",
              "      flex-wrap:wrap;\n",
              "      gap: 12px;\n",
              "    }\n",
              "\n",
              "    .colab-df-convert {\n",
              "      background-color: #E8F0FE;\n",
              "      border: none;\n",
              "      border-radius: 50%;\n",
              "      cursor: pointer;\n",
              "      display: none;\n",
              "      fill: #1967D2;\n",
              "      height: 32px;\n",
              "      padding: 0 0 0 0;\n",
              "      width: 32px;\n",
              "    }\n",
              "\n",
              "    .colab-df-convert:hover {\n",
              "      background-color: #E2EBFA;\n",
              "      box-shadow: 0px 1px 2px rgba(60, 64, 67, 0.3), 0px 1px 3px 1px rgba(60, 64, 67, 0.15);\n",
              "      fill: #174EA6;\n",
              "    }\n",
              "\n",
              "    [theme=dark] .colab-df-convert {\n",
              "      background-color: #3B4455;\n",
              "      fill: #D2E3FC;\n",
              "    }\n",
              "\n",
              "    [theme=dark] .colab-df-convert:hover {\n",
              "      background-color: #434B5C;\n",
              "      box-shadow: 0px 1px 3px 1px rgba(0, 0, 0, 0.15);\n",
              "      filter: drop-shadow(0px 1px 2px rgba(0, 0, 0, 0.3));\n",
              "      fill: #FFFFFF;\n",
              "    }\n",
              "  </style>\n",
              "\n",
              "      <script>\n",
              "        const buttonEl =\n",
              "          document.querySelector('#df-21f3ac36-f970-4eaa-b7fb-f24004dcdd9e button.colab-df-convert');\n",
              "        buttonEl.style.display =\n",
              "          google.colab.kernel.accessAllowed ? 'block' : 'none';\n",
              "\n",
              "        async function convertToInteractive(key) {\n",
              "          const element = document.querySelector('#df-21f3ac36-f970-4eaa-b7fb-f24004dcdd9e');\n",
              "          const dataTable =\n",
              "            await google.colab.kernel.invokeFunction('convertToInteractive',\n",
              "                                                     [key], {});\n",
              "          if (!dataTable) return;\n",
              "\n",
              "          const docLinkHtml = 'Like what you see? Visit the ' +\n",
              "            '<a target=\"_blank\" href=https://colab.research.google.com/notebooks/data_table.ipynb>data table notebook</a>'\n",
              "            + ' to learn more about interactive tables.';\n",
              "          element.innerHTML = '';\n",
              "          dataTable['output_type'] = 'display_data';\n",
              "          await google.colab.output.renderOutput(dataTable, element);\n",
              "          const docLink = document.createElement('div');\n",
              "          docLink.innerHTML = docLinkHtml;\n",
              "          element.appendChild(docLink);\n",
              "        }\n",
              "      </script>\n",
              "    </div>\n",
              "  </div>\n",
              "  "
            ],
            "text/plain": [
              "                                                                                                                                                                     tweet  ...  analysis\n",
              "0  elecciones2020 florida joebiden dice donaldtrump solo preocupa mismo demcrata anfitrin encuentros electores pembrokepines miramar clic aqu elsollatino yobrilloconelsol  ...  neutral \n",
              "1  usa 2020 trump contro facebook twitter coprono biden donaldtrump                                                                                                         ...  neutral \n",
              "2  trump student used hear years ten years heard china 2019 15 dont know many asked many said sir dont know millions like 300 millionum                                     ...  positive\n",
              "3  hours since last tweet trump maybe busy tremendously busy                                                                                                                ...  positive\n",
              "4  get tie get tie trump rally iowa                                                                                                                                         ...  neutral \n",
              "\n",
              "[5 rows x 8 columns]"
            ]
          },
          "metadata": {},
          "execution_count": 154
        }
      ]
    },
    {
      "cell_type": "code",
      "source": [
        "def text_plot(y):\n",
        "  for c, value in enumerate(y): \n",
        "    plt.text(c-0.08, value, str(value)) "
      ],
      "metadata": {
        "id": "UiWz818v9ePW"
      },
      "execution_count": 155,
      "outputs": []
    },
    {
      "cell_type": "code",
      "source": [
        "#Representación de la cantidad de tweets positivos, negativos y neutrales\n",
        "sentiment_cnt = Counter(tweets.analysis)\n",
        "plt.figure(figsize=(12,6))\n",
        "plt.bar(sentiment_cnt.keys(), sentiment_cnt.values(), color=['tomato', 'limegreen', 'deepskyblue'])\n",
        "text_plot(sentiment_cnt.values())\n",
        "plt.xlabel('Sentimientos')\n",
        "plt.ylabel('Cantidad de tweets')\n",
        "plt.title('Análisis de sentimientos')"
      ],
      "metadata": {
        "colab": {
          "base_uri": "https://localhost:8080/",
          "height": 421
        },
        "id": "CoTxzR3GpZiO",
        "outputId": "5464f301-533a-46e9-d11e-55eb20443c20"
      },
      "execution_count": 156,
      "outputs": [
        {
          "output_type": "execute_result",
          "data": {
            "text/plain": [
              "Text(0.5, 1.0, 'Análisis de sentimientos')"
            ]
          },
          "metadata": {},
          "execution_count": 156
        },
        {
          "output_type": "display_data",
          "data": {
            "image/png": "[encoded data removed]",
            "text/plain": [
              "<Figure size 864x432 with 1 Axes>"
            ]
          },
          "metadata": {
            "needs_background": "light"
          }
        }
      ]
    },
    {
      "cell_type": "code",
      "source": [
        "sentiment_cnt = Counter(tweets.analysis)\n",
        "sentiment_cnt"
      ],
      "metadata": {
        "colab": {
          "base_uri": "https://localhost:8080/"
        },
        "id": "A-5pmuF9Jm3Q",
        "outputId": "fb7884a9-f5ef-44da-d4e6-273ae739b70b"
      },
      "execution_count": 157,
      "outputs": [
        {
          "output_type": "execute_result",
          "data": {
            "text/plain": [
              "Counter({'negative': 313054, 'neutral': 1141319, 'positive': 584359})"
            ]
          },
          "metadata": {},
          "execution_count": 157
        }
      ]
    },
    {
      "cell_type": "code",
      "source": [
        "def flatten(l):\n",
        "    \"\"\" La funcion aplana una lista de listas \n",
        "        \n",
        "        args:\n",
        "            l (): lista de listas\n",
        "        return : lista aplanada\n",
        "    \"\"\"\n",
        "    return [item for sublist in l for item in sublist]"
      ],
      "metadata": {
        "id": "_uvbOb_XCqmF"
      },
      "execution_count": 158,
      "outputs": []
    },
    {
      "cell_type": "code",
      "source": [
        "#Twitters más virales de acuerdo a la cantidad de likes\n",
        "most_liked = tweets.sort_values('likes', ascending= False).head(50)\n",
        "sentiment_cnt = Counter(most_liked.analysis)\n",
        "plt.figure(figsize=(12,6))\n",
        "plt.bar(sentiment_cnt.keys(), sentiment_cnt.values(), color=['limegreen', 'tomato', 'deepskyblue'])\n",
        "text_plot(sentiment_cnt.values())\n",
        "plt.xlabel('Sentimientos')\n",
        "plt.ylabel('Cantidad de tweets')\n",
        "plt.title(\"Análisis de sentimientos tweets con más likes.\")"
      ],
      "metadata": {
        "colab": {
          "base_uri": "https://localhost:8080/",
          "height": 421
        },
        "id": "rhb98szRq5ge",
        "outputId": "6e44932e-cf8f-4952-cb1b-8ae402a792b8"
      },
      "execution_count": 159,
      "outputs": [
        {
          "output_type": "execute_result",
          "data": {
            "text/plain": [
              "Text(0.5, 1.0, 'Análisis de sentimientos tweets con más likes.')"
            ]
          },
          "metadata": {},
          "execution_count": 159
        },
        {
          "output_type": "display_data",
          "data": {
            "image/png": "[encoded data removed]",
            "text/plain": [
              "<Figure size 864x432 with 1 Axes>"
            ]
          },
          "metadata": {
            "needs_background": "light"
          }
        }
      ]
    },
    {
      "cell_type": "code",
      "source": [
        "#Separamos las 10 palabras mas usadas en los tweets mas virales segun los likes\n",
        "tweets_viral_likes = [tweet.split() for tweet in most_liked['tweet']]\n",
        "tweets_viral_likes = flatten(tweets_viral_likes)\n",
        "fdist1 = nltk.FreqDist(tweets_viral_likes)\n",
        "fdist1.most_common(30)"
      ],
      "metadata": {
        "colab": {
          "base_uri": "https://localhost:8080/"
        },
        "id": "UrpL35tGCuZf",
        "outputId": "aff34941-49ea-4733-91eb-70f8cc01c9b3"
      },
      "execution_count": 160,
      "outputs": [
        {
          "output_type": "execute_result",
          "data": {
            "text/plain": [
              "[('election2020', 25),\n",
              " ('trump', 17),\n",
              " ('joebiden', 15),\n",
              " ('biden', 15),\n",
              " ('vote', 15),\n",
              " ('president', 10),\n",
              " ('amp', 9),\n",
              " ('im', 8),\n",
              " ('count', 7),\n",
              " ('hes', 6),\n",
              " ('every', 6),\n",
              " ('america', 6),\n",
              " ('electionresults2020', 6),\n",
              " ('election', 6),\n",
              " ('pennsylvania', 5),\n",
              " ('one', 5),\n",
              " ('big', 5),\n",
              " ('win', 5),\n",
              " ('joe', 5),\n",
              " ('woman', 4),\n",
              " ('good', 4),\n",
              " ('please', 4),\n",
              " ('see', 4),\n",
              " ('kamalaharris', 4),\n",
              " ('bidenharris2020', 4),\n",
              " ('state', 4),\n",
              " ('us', 4),\n",
              " ('votes', 4),\n",
              " ('fraud', 4),\n",
              " ('legal', 4)]"
            ]
          },
          "metadata": {},
          "execution_count": 160
        }
      ]
    },
    {
      "cell_type": "code",
      "source": [
        "#Twitters más virales de acuerdo a la cantidad de retweets\n",
        "most_retweeted = tweets.sort_values('retweets', ascending= False).head(50)\n",
        "sentiment_cnt = Counter(most_retweeted.analysis)\n",
        "plt.figure(figsize=(12,6))\n",
        "plt.bar(sentiment_cnt.keys(), sentiment_cnt.values(), color=['tomato','deepskyblue', 'limegreen'])\n",
        "text_plot(sentiment_cnt.values())\n",
        "plt.xlabel('Sentimientos')\n",
        "plt.ylabel('Cantidad de tweets')\n",
        "plt.title(\"Análisis de sentimientos tweets con más retweets.\")"
      ],
      "metadata": {
        "colab": {
          "base_uri": "https://localhost:8080/",
          "height": 421
        },
        "id": "epY39u3TsD8O",
        "outputId": "68c78e9f-e5b1-466c-9773-31891ffc1500"
      },
      "execution_count": 161,
      "outputs": [
        {
          "output_type": "execute_result",
          "data": {
            "text/plain": [
              "Text(0.5, 1.0, 'Análisis de sentimientos tweets con más retweets.')"
            ]
          },
          "metadata": {},
          "execution_count": 161
        },
        {
          "output_type": "display_data",
          "data": {
            "image/png": "[encoded data removed]",
            "text/plain": [
              "<Figure size 864x432 with 1 Axes>"
            ]
          },
          "metadata": {
            "needs_background": "light"
          }
        }
      ]
    },
    {
      "cell_type": "code",
      "source": [
        "#Separamos las 10 palabras mas usadas en los tweets mas virales segun los retweets\n",
        "tweets_viral_retweet = [tweet.split() for tweet in most_retweeted['tweet']]\n",
        "tweets_viral_retweet = flatten(tweets_viral_retweet)\n",
        "fdist1 = nltk.FreqDist(tweets_viral_retweet)\n",
        "fdist1.most_common(30)"
      ],
      "metadata": {
        "colab": {
          "base_uri": "https://localhost:8080/"
        },
        "id": "pH1sYta0DXaY",
        "outputId": "35cee9db-5b09-422a-c2c1-6b9e1aab91e5"
      },
      "execution_count": 162,
      "outputs": [
        {
          "output_type": "execute_result",
          "data": {
            "text/plain": [
              "[('election2020', 27),\n",
              " ('trump', 18),\n",
              " ('joebiden', 16),\n",
              " ('biden', 15),\n",
              " ('president', 11),\n",
              " ('vote', 10),\n",
              " ('amp', 9),\n",
              " ('im', 8),\n",
              " ('count', 7),\n",
              " ('election', 7),\n",
              " ('america', 6),\n",
              " ('electionresults2020', 6),\n",
              " ('fraud', 6),\n",
              " ('hes', 6),\n",
              " ('joe', 6),\n",
              " ('every', 5),\n",
              " ('one', 5),\n",
              " ('pennsylvania', 5),\n",
              " ('win', 5),\n",
              " ('white', 5),\n",
              " ('house', 5),\n",
              " ('first', 5),\n",
              " ('twitter', 4),\n",
              " ('please', 4),\n",
              " ('bidenharris2020', 4),\n",
              " ('woman', 4),\n",
              " ('good', 4),\n",
              " ('big', 4),\n",
              " ('see', 4),\n",
              " ('like', 4)]"
            ]
          },
          "metadata": {},
          "execution_count": 162
        }
      ]
    },
    {
      "cell_type": "code",
      "source": [
        "#Sentimiento de los tweets que mencionan a Biden y no a Trump\n",
        "biden_tweets = tweets[tweets.biden.apply(lambda x: x>0) & tweets.trump.apply(lambda x: x==0)]\n",
        "sentiment_cnt = Counter(biden_tweets.analysis)\n",
        "plt.figure(figsize=(12,6))\n",
        "plt.bar(sentiment_cnt.keys(), sentiment_cnt.values(), color=['limegreen','tomato', 'deepskyblue'])\n",
        "text_plot(sentiment_cnt.values())\n",
        "plt.xlabel('Sentimientos')\n",
        "plt.ylabel('Cantidad de tweets')\n",
        "plt.title(\"Análisis de sentimientos tweets que mencionan más a Biden.\")"
      ],
      "metadata": {
        "colab": {
          "base_uri": "https://localhost:8080/",
          "height": 421
        },
        "id": "rmyDKCxE0zyP",
        "outputId": "f35efcdc-d94b-4dab-c090-8e0cc93eb345"
      },
      "execution_count": 163,
      "outputs": [
        {
          "output_type": "execute_result",
          "data": {
            "text/plain": [
              "Text(0.5, 1.0, 'Análisis de sentimientos tweets que mencionan más a Biden.')"
            ]
          },
          "metadata": {},
          "execution_count": 163
        },
        {
          "output_type": "display_data",
          "data": {
            "image/png": "[encoded data removed]",
            "text/plain": [
              "<Figure size 864x432 with 1 Axes>"
            ]
          },
          "metadata": {
            "needs_background": "light"
          }
        }
      ]
    },
    {
      "cell_type": "code",
      "source": [
        "#Sentimiento de los tweets que mencionan a Trump y no a Biden\n",
        "trump_tweets = tweets[tweets.trump.apply(lambda x: x>0) & tweets.biden.apply(lambda x: x==0)]\n",
        "target_cnt = Counter(trump_tweets.analysis)\n",
        "plt.figure(figsize=(12,6))\n",
        "plt.bar(target_cnt.keys(), target_cnt.values(), color=['limegreen','tomato', 'deepskyblue'])\n",
        "text_plot(target_cnt.values())\n",
        "plt.xlabel('Sentimientos')\n",
        "plt.ylabel('Cantidad de tweets')\n",
        "plt.title(\"Análisis de sentimientos tweets que mencionan más a Trump.\")"
      ],
      "metadata": {
        "colab": {
          "base_uri": "https://localhost:8080/",
          "height": 421
        },
        "id": "RDk72dM61TTH",
        "outputId": "294412d8-1931-4eb2-af5b-309752d65aac"
      },
      "execution_count": 164,
      "outputs": [
        {
          "output_type": "execute_result",
          "data": {
            "text/plain": [
              "Text(0.5, 1.0, 'Análisis de sentimientos tweets que mencionan más a Trump.')"
            ]
          },
          "metadata": {},
          "execution_count": 164
        },
        {
          "output_type": "display_data",
          "data": {
            "image/png": "[encoded data removed]",
            "text/plain": [
              "<Figure size 864x432 with 1 Axes>"
            ]
          },
          "metadata": {
            "needs_background": "light"
          }
        }
      ]
    }
  ]
}