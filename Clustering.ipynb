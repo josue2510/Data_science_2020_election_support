{
  "nbformat": 4,
  "nbformat_minor": 0,
  "metadata": {
    "colab": {
      "name": "Clustering.ipynb",
      "provenance": [],
      "toc_visible": true,
      "authorship_tag": "ABX9TyOeL00CaKN4l3hVK57UXooz",
      "include_colab_link": true
    },
    "kernelspec": {
      "name": "python3",
      "display_name": "Python 3"
    },
    "language_info": {
      "name": "python"
    }
  },
  "cells": [
    {
      "cell_type": "markdown",
      "metadata": {
        "id": "view-in-github",
        "colab_type": "text"
      },
      "source": [
        "<a href=\"https://colab.research.google.com/github/josue2510/Data_science_2020_election_support/blob/main/Clustering.ipynb\" target=\"_parent\"><img src=\"https://colab.research.google.com/assets/colab-badge.svg\" alt=\"Open In Colab\"/></a>"
      ]
    },
    {
      "cell_type": "code",
      "execution_count": 1,
      "metadata": {
        "colab": {
          "base_uri": "https://localhost:8080/"
        },
        "id": "LNYta7_VGtH0",
        "outputId": "acd37884-b9cf-401b-c1dd-46e96473e113"
      },
      "outputs": [
        {
          "output_type": "stream",
          "name": "stdout",
          "text": [
            "Collecting vaderSentiment\n",
            "  Downloading vaderSentiment-3.3.2-py2.py3-none-any.whl (125 kB)\n",
            "\u001b[?25l\r\u001b[K     |██▋                             | 10 kB 22.3 MB/s eta 0:00:01\r\u001b[K     |█████▏                          | 20 kB 25.1 MB/s eta 0:00:01\r\u001b[K     |███████▉                        | 30 kB 26.4 MB/s eta 0:00:01\r\u001b[K     |██████████▍                     | 40 kB 29.8 MB/s eta 0:00:01\r\u001b[K     |█████████████                   | 51 kB 32.9 MB/s eta 0:00:01\r\u001b[K     |███████████████▋                | 61 kB 35.1 MB/s eta 0:00:01\r\u001b[K     |██████████████████▏             | 71 kB 32.6 MB/s eta 0:00:01\r\u001b[K     |████████████████████▉           | 81 kB 32.6 MB/s eta 0:00:01\r\u001b[K     |███████████████████████▍        | 92 kB 28.0 MB/s eta 0:00:01\r\u001b[K     |██████████████████████████      | 102 kB 29.3 MB/s eta 0:00:01\r\u001b[K     |████████████████████████████▋   | 112 kB 29.3 MB/s eta 0:00:01\r\u001b[K     |███████████████████████████████▏| 122 kB 29.3 MB/s eta 0:00:01\r\u001b[K     |████████████████████████████████| 125 kB 29.3 MB/s \n",
            "\u001b[?25hRequirement already satisfied: requests in /usr/local/lib/python3.7/dist-packages (from vaderSentiment) (2.23.0)\n",
            "Requirement already satisfied: certifi>=2017.4.17 in /usr/local/lib/python3.7/dist-packages (from requests->vaderSentiment) (2021.10.8)\n",
            "Requirement already satisfied: idna<3,>=2.5 in /usr/local/lib/python3.7/dist-packages (from requests->vaderSentiment) (2.10)\n",
            "Requirement already satisfied: chardet<4,>=3.0.2 in /usr/local/lib/python3.7/dist-packages (from requests->vaderSentiment) (3.0.4)\n",
            "Requirement already satisfied: urllib3!=1.25.0,!=1.25.1,<1.26,>=1.21.1 in /usr/local/lib/python3.7/dist-packages (from requests->vaderSentiment) (1.24.3)\n",
            "Installing collected packages: vaderSentiment\n",
            "Successfully installed vaderSentiment-3.3.2\n",
            "Requirement already satisfied: nltk in /usr/local/lib/python3.7/dist-packages (3.2.5)\n",
            "Requirement already satisfied: six in /usr/local/lib/python3.7/dist-packages (from nltk) (1.15.0)\n",
            "Requirement already satisfied: gensim in /usr/local/lib/python3.7/dist-packages (3.6.0)\n",
            "Requirement already satisfied: numpy>=1.11.3 in /usr/local/lib/python3.7/dist-packages (from gensim) (1.19.5)\n",
            "Requirement already satisfied: smart-open>=1.2.1 in /usr/local/lib/python3.7/dist-packages (from gensim) (5.2.1)\n",
            "Requirement already satisfied: scipy>=0.18.1 in /usr/local/lib/python3.7/dist-packages (from gensim) (1.4.1)\n",
            "Requirement already satisfied: six>=1.5.0 in /usr/local/lib/python3.7/dist-packages (from gensim) (1.15.0)\n"
          ]
        }
      ],
      "source": [
        "!pip install vaderSentiment\n",
        "!pip install nltk\n",
        "!pip install gensim"
      ]
    },
    {
      "cell_type": "code",
      "source": [
        "from google.colab import drive\n",
        "drive.mount('/content/drive')\n",
        "from gensim.models import Word2Vec#libreria para representar palabras en vectores de números\n",
        "import pandas as pd\n",
        "from sklearn.cluster import KMeans\n",
        "from sklearn.metrics import silhouette_score#calcula el promedio de los coeficientes de silhouette de todas las muestras\n",
        "from sklearn.metrics import silhouette_samples#calcula el coeficiente de silhouette de cada muestra\n",
        "from sklearn.decomposition import PCA#reduce la dimensionalidad a n dimensiones\n",
        "import numpy as np\n",
        "from matplotlib import pyplot as plt\n",
        "from collections import Counter#subclase que cuenta objetos y almacena los elementos en un diccionario\n",
        "import nltk#kit de herramientas de lenguaje natural\n",
        "nltk.download('punkt')\n",
        "from nltk import word_tokenize\n",
        "from  tqdm import tqdm#libreria que mide el progreso de los loops\n",
        "from sklearn.model_selection import train_test_split"
      ],
      "metadata": {
        "colab": {
          "base_uri": "https://localhost:8080/"
        },
        "id": "Pz3hyLOTGxPm",
        "outputId": "4ce05709-a04b-40e2-f255-62c015b73c04"
      },
      "execution_count": 2,
      "outputs": [
        {
          "output_type": "stream",
          "name": "stdout",
          "text": [
            "Mounted at /content/drive\n",
            "[nltk_data] Downloading package punkt to /root/nltk_data...\n",
            "[nltk_data]   Unzipping tokenizers/punkt.zip.\n"
          ]
        }
      ]
    },
    {
      "cell_type": "code",
      "source": [
        "tweets = pd.read_csv(\"/content/drive/MyDrive/tweets.csv\", sep=',')\n",
        "tweets.tweet = tweets.tweet.astype(str)"
      ],
      "metadata": {
        "id": "kK6qsheVGx4F"
      },
      "execution_count": 3,
      "outputs": []
    },
    {
      "cell_type": "code",
      "source": [
        "def get_tokens(text, tokenizer):\n",
        "    \"\"\"Tokeniza el texto recibido, remueve dígitos y tokens cortos\n",
        "\n",
        "    Args:\n",
        "        text: str\n",
        "\n",
        "    Returns:\n",
        "        tokens: array[str]\n",
        "    \"\"\"\n",
        "    tokens = tokenizer(text)\n",
        "    tokens = [\"\" if t.isdigit() else t for t in tokens]\n",
        "    tokens = [t for t in tokens if len(t) > 1]\n",
        "    return tokens"
      ],
      "metadata": {
        "id": "HFNupQIsHAMq"
      },
      "execution_count": 4,
      "outputs": []
    },
    {
      "cell_type": "code",
      "source": [
        "#separamos cada tweet por palabra y los almacenamos en un vector\n",
        "#para tener un vector de vectores, tokenizamos los tweets\n",
        "tweets_words = tweets.tweet.apply(lambda x: get_tokens(x, word_tokenize))"
      ],
      "metadata": {
        "id": "kiRiZkRxHCQa"
      },
      "execution_count": 5,
      "outputs": []
    },
    {
      "cell_type": "code",
      "source": [
        "#entrenamos el modelo Word2Vec usando los tweets tokenizados\n",
        "model = Word2Vec(sentences=tweets_words, workers=1, seed=42)"
      ],
      "metadata": {
        "id": "11H7MLfOHEBH"
      },
      "execution_count": 6,
      "outputs": []
    },
    {
      "cell_type": "code",
      "source": [
        "def flatten(l):\n",
        "    \"\"\" La funcion aplana una lista de listas \n",
        "        \n",
        "        args:\n",
        "            l (): lista de listas\n",
        "        return : lista aplanada\n",
        "    \"\"\"\n",
        "    return [item for sublist in l for item in sublist]"
      ],
      "metadata": {
        "id": "41A3XqozWkp0"
      },
      "execution_count": 7,
      "outputs": []
    },
    {
      "cell_type": "code",
      "source": [
        "#Calculamos la frecuencia de cada palabra\n",
        "flatten_tweets_words = flatten(tweets_words)\n",
        "word_freq = nltk.FreqDist(flatten_tweets_words)"
      ],
      "metadata": {
        "id": "WYj14LNTWtSJ"
      },
      "execution_count": 8,
      "outputs": []
    },
    {
      "cell_type": "code",
      "source": [
        "def tuple2array(value):\n",
        "  \"\"\" La funcion convierte una tupla a un arrau\n",
        "        \n",
        "        args:\n",
        "            value: tupla\n",
        "        return : lista: array() \n",
        "    \"\"\"\n",
        "  lista = []\n",
        "  for a_tuple in value:\n",
        "    lista.append(a_tuple[0])\n",
        "  return lista "
      ],
      "metadata": {
        "id": "oFPhbwbFWwgL"
      },
      "execution_count": 9,
      "outputs": []
    },
    {
      "cell_type": "code",
      "source": [
        "#Elegimos las 18 palabras más frecuentes y obtenemos sus vectores respectivos\n",
        "common_words = tuple2array(word_freq.most_common(20))\n",
        "X = model[common_words]\n",
        "#Transformamos los vectores a 2 dimensiones usando PCA\n",
        "pca = PCA(n_components=2)\n",
        "result = pca.fit_transform(X)\n",
        "#Creamos la representación de las 18 palabras más comunes en 2 dimensiones\n",
        "plt.figure(figsize=(16,8))\n",
        "plt.scatter(result[:, 0], result[:, 1])\n",
        "words = list(common_words)\n",
        "for i, word in enumerate(words):\n",
        "  plt.annotate(word, xy=(result[i, 0], result[i, 1]), fontsize=12)\n",
        "plt.title('20 Palabras más comunes y su distribución')\n",
        "plt.xlabel('x')\n",
        "plt.ylabel('y')\n",
        "plt.show()"
      ],
      "metadata": {
        "colab": {
          "base_uri": "https://localhost:8080/",
          "height": 570
        },
        "id": "R7xOVBNcWz4Q",
        "outputId": "67ef5832-6081-49f1-929d-859fef5e76be"
      },
      "execution_count": 10,
      "outputs": [
        {
          "output_type": "stream",
          "name": "stderr",
          "text": [
            "/usr/local/lib/python3.7/dist-packages/ipykernel_launcher.py:3: DeprecationWarning: Call to deprecated `__getitem__` (Method will be removed in 4.0.0, use self.wv.__getitem__() instead).\n",
            "  This is separate from the ipykernel package so we can avoid doing imports until\n"
          ]
        },
        {
          "output_type": "display_data",
          "data": {
            "image/png": "[encoded data removed]",
            "text/plain": [
              "<Figure size 1152x576 with 1 Axes>"
            ]
          },
          "metadata": {
            "needs_background": "light"
          }
        }
      ]
    },
    {
      "cell_type": "code",
      "source": [
        "#Función que crea un vector por tweet, promediando los vectores de las palabras que contiene\n",
        "def vectorize(list_of_docs, model):\n",
        "    \"\"\"Genera vectores para la lista de documentos usando Word Embedding\n",
        "\n",
        "    Args:\n",
        "        list_of_docs: Lista de documentos\n",
        "        model: modelo de Gensim Word2Vec entrenado\n",
        "\n",
        "    Returns:\n",
        "        features: Lista de documentos vectorizados\n",
        "    \"\"\"\n",
        "    features = []\n",
        "    for tokens in list_of_docs:\n",
        "        zero_vector = np.zeros(model.vector_size)\n",
        "        vectors = []\n",
        "        for token in tokens:\n",
        "            if token in model.wv:\n",
        "                try:\n",
        "                    vectors.append(model.wv[token])\n",
        "                except KeyError:\n",
        "                    continue\n",
        "        if vectors:\n",
        "            vectors = np.asarray(vectors)\n",
        "            avg_vec = vectors.mean(axis=0)\n",
        "            features.append(avg_vec)\n",
        "        else:\n",
        "            features.append(zero_vector)\n",
        "    return features"
      ],
      "metadata": {
        "id": "Ym35VztsHIU0"
      },
      "execution_count": 11,
      "outputs": []
    },
    {
      "cell_type": "code",
      "source": [
        "vectorized_docs = vectorize(tweets_words, model=model)\n",
        "len(vectorized_docs), len(vectorized_docs[0])"
      ],
      "metadata": {
        "colab": {
          "base_uri": "https://localhost:8080/"
        },
        "id": "U_2Nblh0HKe6",
        "outputId": "8fa802f6-b3bc-492c-bc38-80045350dec6"
      },
      "execution_count": 12,
      "outputs": [
        {
          "output_type": "execute_result",
          "data": {
            "text/plain": [
              "(2144766, 100)"
            ]
          },
          "metadata": {},
          "execution_count": 12
        }
      ]
    },
    {
      "cell_type": "code",
      "source": [
        "#Agrupamos los diferentes tweets usando KMeans\n",
        "clustering = KMeans(n_clusters=50).fit(vectorized_docs)"
      ],
      "metadata": {
        "id": "yzeo2XlWHNEX"
      },
      "execution_count": 13,
      "outputs": []
    },
    {
      "cell_type": "code",
      "source": [
        "tweets['cluster'] = clustering.labels_\n",
        "cluster_count = Counter(tweets.cluster)\n",
        "cluster_count"
      ],
      "metadata": {
        "colab": {
          "base_uri": "https://localhost:8080/"
        },
        "id": "DTOHeaFycvsC",
        "outputId": "778a4574-be96-4bb9-ed44-78ce34ec6c05"
      },
      "execution_count": 14,
      "outputs": [
        {
          "output_type": "execute_result",
          "data": {
            "text/plain": [
              "Counter({0: 69759,\n",
              "         1: 90537,\n",
              "         2: 45092,\n",
              "         3: 78041,\n",
              "         4: 24430,\n",
              "         5: 33808,\n",
              "         6: 118053,\n",
              "         7: 34499,\n",
              "         8: 19136,\n",
              "         9: 52338,\n",
              "         10: 32718,\n",
              "         11: 69760,\n",
              "         12: 36743,\n",
              "         13: 20460,\n",
              "         14: 64284,\n",
              "         15: 69202,\n",
              "         16: 14700,\n",
              "         17: 61059,\n",
              "         18: 7554,\n",
              "         19: 73030,\n",
              "         20: 4044,\n",
              "         21: 30032,\n",
              "         22: 46000,\n",
              "         23: 13047,\n",
              "         24: 20022,\n",
              "         25: 46439,\n",
              "         26: 54667,\n",
              "         27: 17171,\n",
              "         28: 7830,\n",
              "         29: 55914,\n",
              "         30: 18094,\n",
              "         31: 32830,\n",
              "         32: 36761,\n",
              "         33: 24278,\n",
              "         34: 15040,\n",
              "         35: 40957,\n",
              "         36: 59822,\n",
              "         37: 32793,\n",
              "         38: 28749,\n",
              "         39: 27971,\n",
              "         40: 108862,\n",
              "         41: 43614,\n",
              "         42: 63804,\n",
              "         43: 32249,\n",
              "         44: 26641,\n",
              "         45: 19234,\n",
              "         46: 6592,\n",
              "         47: 32742,\n",
              "         48: 53679,\n",
              "         49: 129685})"
            ]
          },
          "metadata": {},
          "execution_count": 14
        }
      ]
    },
    {
      "cell_type": "code",
      "source": [
        "#Obtenemos las palabras más representativas en cada cluster\n",
        "print(\"Palabras más representativas por cluster(según la cercanía a su centroide):\")\n",
        "for i in range(50):\n",
        "    tokens_per_cluster = \"\"\n",
        "    most_representative = model.wv.most_similar(positive=[clustering.cluster_centers_[i]], topn=10)\n",
        "    for t in most_representative:\n",
        "        tokens_per_cluster += f\"{t[0]} \"\n",
        "    print(f\"Cluster {i}: {tokens_per_cluster}\")"
      ],
      "metadata": {
        "colab": {
          "base_uri": "https://localhost:8080/"
        },
        "id": "EWRkTITVLP8Y",
        "outputId": "ab8b03f8-7566-4f93-ec4c-23685f0e8283"
      },
      "execution_count": 15,
      "outputs": [
        {
          "output_type": "stream",
          "name": "stdout",
          "text": [
            "Palabras más representativas por cluster(según la cercanía a su centroide):\n",
            "Cluster 0: today and amp especially appears election there actually also definitely \n",
            "Cluster 1: amp actually and him especially also them way definitely there \n",
            "Cluster 2: actually amp and also clearly basically today shows simply apparently \n",
            "Cluster 3: directement alors fortement uniquement donner souriante clairement grce thierrymariani coupable \n",
            "Cluster 4: joebiden kamalaharris bidenharris joebidenkamalaharris2020 kamalaharrisvp bidenharris2020 biden joebiden2020 presidentelectjoe 46thpresident \n",
            "Cluster 5: election2020 trump elections2020 bidenharris2020 biden bidenharris uselection2020 electionresults election2020results electionday2020 \n",
            "Cluster 6: actually definitely and think thats way but well there especially \n",
            "Cluster 7: disminuyendo porsiteloperdiste clave votacion masivamente ampla favorecen recta explicamos sondeos \n",
            "Cluster 8: georgia election2020 pennsylvania nevada ga arizona georgias vote michigan biden \n",
            "Cluster 9: nonostante riesci presenti corso altro pronte potrebbero laveva attaccato meno \n",
            "Cluster 10: vote too voting period only not else this especially definitely \n",
            "Cluster 11: trump biden election2020 vote us period joebiden bidenharris election bidenharris2020 \n",
            "Cluster 12: covid pandemic covid19 amp us trump and ignoring actually virus \n",
            "Cluster 13: sonular ortalk arasnda kazanmas kez ncesi alyor puan syledi grnyor \n",
            "Cluster 14: konsequenter weshalb beschert nochmals auch bestehende massiv bekmpfen auer endgltigen \n",
            "Cluster 15: country actually and way america especially amp definitely unfortunately again \n",
            "Cluster 16: trump trumps donaldtrump realdonaldtrump djt joe donaldtrumps realdonaldtrumps him he \n",
            "Cluster 17: actually biden definitely also joebiden else not him too there \n",
            "Cluster 18: biden joebiden bidens donald joebidens bidenharris kamala pennsylvania election2020 trump2020 \n",
            "Cluster 19: today definitely too there also this and well one though \n",
            "Cluster 20: afazenda12 followtrick rocaafazenda bielexpulso afazenda jojotodynho ayamamamoo afazenda2020 bbtvi20 ficamateus \n",
            "Cluster 21: biden trump joebiden bidenharris election2020 bidenharris2020 bidens vote trump2020 else \n",
            "Cluster 22: pennsylvania appears overnight expected votes point likely vote today even \n",
            "Cluster 23: election today appears result results us tuesday race determined elections \n",
            "Cluster 24: joebiden biden joebidens bidencrimefamiily hunterbidenemails corruptjoebiden bidenharris crookedjoebiden bidencrimefamily chinajoe \n",
            "Cluster 25: mondaythoughts sundaythoughts election2020 wednesdaymotivation sundaymorning uselection fridaymotivation saturdaythoughts wednesdaywisdom mondaymotivation \n",
            "Cluster 26: and actually vote amp means way there not especially also \n",
            "Cluster 27: niet ook wel maar zo zijn hij aan weer uit \n",
            "Cluster 28: joebiden biden joebidens bidens joebiden2020 bidenharris joebidenkamalaharris2020 joes sleepyjoe barackobama \n",
            "Cluster 29: recibido crecimiento continuidad mejora xito cuestin comenz desarrollo creci nuevamente \n",
            "Cluster 30: election2020 uselection2020 electionresults elections2020 elections 2020elections 2020election electionday2020 bidenharris2020 debate2020 \n",
            "Cluster 31: trump2020landslide trump2020 maga2020 trump2020landslidevictory trump maga2020landslidevictory trumppence2020 maga trump2020tosaveamerica realdonaldtrump \n",
            "Cluster 32: ngt maansa ilikilerde rusperestlerin interferire 131e meghupdates bago yapsal zugestehen \n",
            "Cluster 33: uselection2020 uselections uselection uselectionresults2020 joebiden uselections2020 uselectionresults donaldtrump uspresidentialelections2020 usaelections2020 \n",
            "Cluster 34: electionday2020 elecciones2020 vote2020 thepostelection eleccion2020 electionresults 2020elections elections2020 debates2020 decision2020 \n",
            "Cluster 35: trump realdonaldtrump him djt actually else definitely trumps again and \n",
            "Cluster 36: amp actually and means especially also them way us well \n",
            "Cluster 37: trumpmeltdown votehimout trumpislosing trumpisalaughingstock trumpisanationaldisgrace trump trumpcrimefamily trumpisnotamerica liarinchief bidenharris2020 \n",
            "Cluster 38: election2020 electionresults bidenharris2020 electionresults2020 2020elections uselection2020 counteveryvote 2020election electionresult2020 bidenharris \n",
            "Cluster 39: trump donaldtrump realdonaldtrump trumps djt him joe realdonaldtrumps all donaldtrumps \n",
            "Cluster 40: amp actually especially and them way him not thats means \n",
            "Cluster 41: biden trump joebiden election2020 bidenharris elections2020 bidenharris2020 trump2020 pennsylvania florida \n",
            "Cluster 42: definitely and well there today also actually too still way \n",
            "Cluster 43: directly amp familys corruption actually connected hunterbiden involved scandal also \n",
            "Cluster 44: president joebiden us period potus definitely america today elect biden \n",
            "Cluster 45: contestao levar necessrio cenrio amanh respondendo bater irresponsvel saem tendncia \n",
            "Cluster 46: donaldtrump trump realdonaldtrump donaldjtrump donaldtrumps presidenttrump presidentialelection trumps presidentialelection2020 unitedstates \n",
            "Cluster 47: bidenharris2020 bidenharris bidenharris2020landslide bidenharrislandslide2020 bidenharristosaveamerica bidenharris2020tosaveamerica bidenharis2020 votehimout 2020elections votebluetoendthenightmare \n",
            "Cluster 48: definitely and actually means appears however not way election win \n",
            "Cluster 49: actually definitely and there well maybe thats probably also think \n"
          ]
        }
      ]
    },
    {
      "cell_type": "code",
      "source": [
        "#Obtenemos los n tweets más representativos del cluster en específico\n",
        "test_cluster = 49\n",
        "most_representative_docs = np.argsort(\n",
        "    np.linalg.norm(vectorized_docs - clustering.cluster_centers_[test_cluster], axis=1)\n",
        ")\n",
        "for d in most_representative_docs[:5]:\n",
        "    print(tweets['tweet'][d])\n",
        "    print(\"-------------\")"
      ],
      "metadata": {
        "colab": {
          "base_uri": "https://localhost:8080/"
        },
        "id": "c1UccQJmLau8",
        "outputId": "eac3ceea-9e4f-461c-f15e-5b08280ecc10"
      },
      "execution_count": 18,
      "outputs": [
        {
          "output_type": "stream",
          "name": "stdout",
          "text": [
            "realdonaldtrump special speech pennsylvania started absurd soundtrack including billy joels piano man theres place id be killing me its come forget life while votebiden realamericansforjoe biden lieslieslies\n",
            "-------------\n",
            "shit dont want hear biden tonight 1 deference trump 2 deference maga enthusiasts 3 calling elses deference time focus whats best people office extend olive branch dammit dassit joebiden\n",
            "-------------\n",
            "hes gone think need remember realdonaldtrump done henceforth lll referring bowel movements trumps now excuse me im going grunt greasy celebratory trump yourefired bidenharris2020 trump\n",
            "-------------\n",
            "id love room trump got cohorts believe lie day 20 incentive people jeopardise careers amp livelihoods shitstain like trump cowardice amp dumbfucks trumpmeltdown trump\n",
            "-------------\n",
            "dhaveaclue giannocaldwell joebiden theyre telling resounding yes now its classless donaldtrump scorch earth campaign bullying hunterbiden way horrible people hope hunter beach drinking tequila\n",
            "-------------\n"
          ]
        }
      ]
    }
  ]
}