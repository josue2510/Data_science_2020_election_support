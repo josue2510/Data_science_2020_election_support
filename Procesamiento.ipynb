{
 "cells": [
  {
   "cell_type": "code",
   "execution_count": 1,
   "id": "6ccd1d79-b5c2-47fc-90ca-af26f62b5fb4",
   "metadata": {},
   "outputs": [],
   "source": [
    "import pandas as pd\n",
    "import math\n",
    "import re\n",
    "\n",
    "#import warnings; warnings.simplefilter('ignore')\n",
    "import spacy\n",
    "from collections import Counter\n"
   ]
  },
  {
   "cell_type": "code",
   "execution_count": null,
   "id": "32304ec4-c3d5-4e84-b929-e50966ad5b94",
   "metadata": {},
   "outputs": [],
   "source": [
    "tweets1_1 = pd.read_csv(\"./data/hashtag_donaldtrump.csv\", lineterminator=\"\\n\")\n",
    "tweets1_2 = pd.read_csv(\"./data/hashtag_joebiden.csv\", lineterminator=\"\\n\")\n",
    "tweets2_1 = pd.read_csv(\"./data/2020-US-election-tweets.csv\", sep=\",\")\n",
    "tweets3 = pd.read_csv(\"./data/all_tweets.csv\", sep=\",\", low_memory=False)"
   ]
  },
  {
   "cell_type": "code",
   "execution_count": null,
   "id": "b2d258f7-e771-4206-82b3-ecce203a516c",
   "metadata": {},
   "outputs": [],
   "source": [
    "tweets3 = tweets3.dropna(subset=['favorite_count', 'retweet_count'])\n",
    "tweets3['favorite_count'] = tweets3['favorite_count'].apply(lambda x: 0 if x == 'False' else x)\n",
    "tweets3['retweet_count'] = tweets3['retweet_count'].apply(lambda x: 0 if x == 'False' else x)\n",
    "tweets = pd.DataFrame()"
   ]
  },
  {
   "cell_type": "code",
   "execution_count": null,
   "id": "5ee80c58-b12c-442a-9a06-311c46029fd6",
   "metadata": {},
   "outputs": [],
   "source": [
    "tweets3.dtypes"
   ]
  },
  {
   "cell_type": "code",
   "execution_count": null,
   "id": "4184b673-4464-43c6-8795-e804135dd360",
   "metadata": {},
   "outputs": [],
   "source": [
    "def parser (tweet, likes, retweets, date):\n",
    "    \"\"\" La funcion estandariza los tipos de datos con los que se va a trabajar ... \n",
    "        args:\n",
    "            tweet (): object\n",
    "            likes(): numeric\n",
    "            retweets(): numeric\n",
    "            date (): object\n",
    "        return : DataFrame\n",
    "    \"\"\"\n",
    "    df = pd.DataFrame({'tweet': tweet.astype(str), \n",
    "                       'likes':likes.astype('int64'), \n",
    "                       'retweets': retweets.astype('int64'), \n",
    "                       'date': pd.to_datetime(date, errors='coerce').dt.date})\n",
    "    return df    "
   ]
  },
  {
   "cell_type": "code",
   "execution_count": null,
   "id": "3b898418-cc9b-4def-baa1-129ebdf7f0f4",
   "metadata": {},
   "outputs": [],
   "source": [
    "tweets = tweets.append(parser(tweets1_1['tweet'], tweets1_1['likes'], tweets1_1['retweet_count'], tweets1_1['created_at']))\n",
    "tweets = tweets.append(parser(tweets1_2['tweet'], tweets1_2['likes'], tweets1_2['retweet_count'], tweets1_2['created_at']))\n",
    "tweets = tweets.append(parser(tweets2_1['tweet'], tweets2_1['likes_count'], tweets2_1['retweets_count'], tweets2_1['date']))\n",
    "tweets = tweets.append(parser(tweets3['text'], tweets3['favorite_count'], tweets3['retweet_count'], tweets3['created_at']))"
   ]
  },
  {
   "cell_type": "code",
   "execution_count": null,
   "id": "b3e253b3-e346-4f0e-a5ad-64ca9afe2f6a",
   "metadata": {},
   "outputs": [],
   "source": [
    "tweets = tweets.dropna()\n",
    "tweets"
   ]
  },
  {
   "cell_type": "code",
   "execution_count": null,
   "id": "62fa9948-f7f4-4310-9e86-61ffacf58140",
   "metadata": {},
   "outputs": [],
   "source": [
    "def clean(text):\n",
    "    \"\"\" La funcion elimina los caracteres especiales, links, saltos de linea, tabulaciones, signos de puntuacion ... \n",
    "        \n",
    "        args:\n",
    "            text (): str\n",
    "        return : str\n",
    "    \"\"\"\n",
    "    text = re.sub('https?://\\S+|www\\.\\S+', '', text)\n",
    "    text = re.sub('[\\\\\\.,/#@!$|%\\^&\\*;:{}=\\-_`~\\[\\]()”“\"…?!@\\']', '', text)\n",
    "    text = re.sub('\\n', '', text)\n",
    "    text = re.sub('\\t', '', text)\n",
    "    text = re.sub('\\w*\\d\\w*', '', text)\n",
    "    text=re.sub(r'RT[\\s]+','',text)\n",
    "    return text"
   ]
  },
  {
   "cell_type": "code",
   "execution_count": null,
   "id": "77697781-d36a-4f1a-be8c-7022e2d5c581",
   "metadata": {},
   "outputs": [],
   "source": [
    "tweets['tweet'] = tweets['tweet'].apply(lambda x: clean(x))"
   ]
  },
  {
   "cell_type": "code",
   "execution_count": null,
   "id": "2a1635b5-a977-4d92-b4d8-bf3edb2ca2ed",
   "metadata": {},
   "outputs": [],
   "source": [
    "from wordcloud import WordCloud, STOPWORDS, ImageColorGenerator\n",
    "def word_cloud(wd_list):\n",
    "    \"\"\" La funcion elimina los caracteres especiales, links, saltos de linea, tabulaciones, signos de puntuacion ... \n",
    "        \n",
    "        args:\n",
    "            text (): str\n",
    "        return : str\n",
    "    \"\"\"\n",
    "    stopwords = set(STOPWORDS)\n",
    "    all_words = ' '.join([text for text in wd_list])\n",
    "    wordcloud = WordCloud(\n",
    "        background_color='white',\n",
    "        stopwords=stopwords,\n",
    "        width=1600,\n",
    "        height=800,\n",
    "        random_state=1,\n",
    "        colormap='jet',\n",
    "        max_words=80,\n",
    "        max_font_size=200).generate(all_words)\n",
    "    plt.figure(figsize=(12, 10))\n",
    "    plt.axis('off')\n",
    "    plt.imshow(wordcloud, interpolation=\"bilinear\");\n",
    "word_cloud(tweets['tweet'][0:100000])"
   ]
  },
  {
   "cell_type": "code",
   "execution_count": null,
   "id": "30979c86-b91e-4179-8fee-a69474ac622a",
   "metadata": {},
   "outputs": [],
   "source": [
    "nlp = spacy.load('en_core_web_sm')\n",
    "doc = nlp(tweets['tweet'])"
   ]
  },
  {
   "cell_type": "code",
   "execution_count": null,
   "id": "8c2ce08a-82df-4ea4-b3f5-83f235db3511",
   "metadata": {},
   "outputs": [],
   "source": [
    "words = [token.text for token in doc if token.is_stop != True and token.is_punct != True]\n",
    "\n",
    "# five most common tokens\n",
    "word_freq = Counter(words)\n",
    "common_words = word_freq.most_common()"
   ]
  },
  {
   "cell_type": "code",
   "execution_count": null,
   "id": "ea9e7695-b8e2-4246-8f91-364a7e9858b7",
   "metadata": {},
   "outputs": [],
   "source": [
    "# Numero de tweets que menciona Donald Trump -- grafico de barras"
   ]
  },
  {
   "cell_type": "code",
   "execution_count": null,
   "id": "2bf429aa-f0c2-46fa-bc02-b28f53a645a3",
   "metadata": {},
   "outputs": [],
   "source": [
    "# Numero de tweets que menciona Joe Biden -- grafico de barras"
   ]
  },
  {
   "cell_type": "code",
   "execution_count": null,
   "id": "ef48a39d-7a79-4a73-8941-33b5aaa87194",
   "metadata": {},
   "outputs": [],
   "source": [
    "# Cantidad de menciones a traves del tiempo para cada candidato-- grafico de lineas"
   ]
  },
  {
   "cell_type": "code",
   "execution_count": null,
   "id": "c03bc9de-a404-4666-b01a-52575156637d",
   "metadata": {},
   "outputs": [],
   "source": [
    "# Las 10 Palabras mas comunes -- grafico de barras\n"
   ]
  },
  {
   "cell_type": "code",
   "execution_count": null,
   "id": "2d25a4c6-81e4-44a2-ba8f-902594b5bac6",
   "metadata": {},
   "outputs": [],
   "source": [
    "# 5 Palabras mas comunes para Donald Trump -- imshow"
   ]
  },
  {
   "cell_type": "code",
   "execution_count": null,
   "id": "661ce2de-fc80-47d1-b114-e6afdffcc65a",
   "metadata": {},
   "outputs": [],
   "source": [
    "# 5 Palabras mas comunes para Joe Biden -- imshow"
   ]
  }
 ],
 "metadata": {
  "kernelspec": {
   "display_name": "Python 3 (ipykernel)",
   "language": "python",
   "name": "python3"
  },
  "language_info": {
   "codemirror_mode": {
    "name": "ipython",
    "version": 3
   },
   "file_extension": ".py",
   "mimetype": "text/x-python",
   "name": "python",
   "nbconvert_exporter": "python",
   "pygments_lexer": "ipython3",
   "version": "3.8.12"
  }
 },
 "nbformat": 4,
 "nbformat_minor": 5
}
